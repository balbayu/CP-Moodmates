{
 "cells": [
  {
   "cell_type": "markdown",
   "id": "6bc67d6b",
   "metadata": {},
   "source": [
    "## Import Data"
   ]
  },
  {
   "cell_type": "code",
   "execution_count": 1,
   "id": "4b9a1e87",
   "metadata": {
    "id": "4b9a1e87"
   },
   "outputs": [],
   "source": [
    "import pandas as pd\n",
    "import numpy as np\n",
    "import tensorflow as tf\n",
    "import random"
   ]
  },
  {
   "cell_type": "code",
   "execution_count": 2,
   "id": "c63441fd",
   "metadata": {
    "id": "c63441fd",
    "outputId": "79bfdb5d-6d67-40e2-9024-9a021c46f1aa"
   },
   "outputs": [
    {
     "data": {
      "text/html": [
       "<div>\n",
       "<style scoped>\n",
       "    .dataframe tbody tr th:only-of-type {\n",
       "        vertical-align: middle;\n",
       "    }\n",
       "\n",
       "    .dataframe tbody tr th {\n",
       "        vertical-align: top;\n",
       "    }\n",
       "\n",
       "    .dataframe thead th {\n",
       "        text-align: right;\n",
       "    }\n",
       "</style>\n",
       "<table border=\"1\" class=\"dataframe\">\n",
       "  <thead>\n",
       "    <tr style=\"text-align: right;\">\n",
       "      <th></th>\n",
       "      <th>Unnamed: 0</th>\n",
       "      <th>label</th>\n",
       "      <th>tweet</th>\n",
       "    </tr>\n",
       "  </thead>\n",
       "  <tbody>\n",
       "    <tr>\n",
       "      <th>0</th>\n",
       "      <td>0</td>\n",
       "      <td>love</td>\n",
       "      <td>!rp hai ele. Maaf ya gua ga romantis. Gua cuma...</td>\n",
       "    </tr>\n",
       "    <tr>\n",
       "      <th>1</th>\n",
       "      <td>1</td>\n",
       "      <td>anger</td>\n",
       "      <td>\"Mka.a jgn ngatain org klu gmau dikatain...jag...</td>\n",
       "    </tr>\n",
       "    <tr>\n",
       "      <th>2</th>\n",
       "      <td>2</td>\n",
       "      <td>joy</td>\n",
       "      <td># CONGRATULATIONS # Mengucapkan selamat untuk ...</td>\n",
       "    </tr>\n",
       "    <tr>\n",
       "      <th>3</th>\n",
       "      <td>3</td>\n",
       "      <td>joy</td>\n",
       "      <td>#Allhamdulilah Bertambah usia lagi jagoan keci...</td>\n",
       "    </tr>\n",
       "    <tr>\n",
       "      <th>4</th>\n",
       "      <td>4</td>\n",
       "      <td>sadness</td>\n",
       "      <td>#Bali, tunggu koko lagi ya. Koko bakal balik l...</td>\n",
       "    </tr>\n",
       "  </tbody>\n",
       "</table>\n",
       "</div>"
      ],
      "text/plain": [
       "   Unnamed: 0    label                                              tweet\n",
       "0           0     love  !rp hai ele. Maaf ya gua ga romantis. Gua cuma...\n",
       "1           1    anger  \"Mka.a jgn ngatain org klu gmau dikatain...jag...\n",
       "2           2      joy  # CONGRATULATIONS # Mengucapkan selamat untuk ...\n",
       "3           3      joy  #Allhamdulilah Bertambah usia lagi jagoan keci...\n",
       "4           4  sadness  #Bali, tunggu koko lagi ya. Koko bakal balik l..."
      ]
     },
     "execution_count": 2,
     "metadata": {},
     "output_type": "execute_result"
    }
   ],
   "source": [
    "train = pd.read_csv('data_fix.csv')\n",
    "train.head()"
   ]
  },
  {
   "cell_type": "code",
   "execution_count": 3,
   "id": "9d937de3",
   "metadata": {},
   "outputs": [
    {
     "name": "stdout",
     "output_type": "stream",
     "text": [
      "       Unnamed: 0    label                                              tweet\n",
      "0            5878    anger  Saya telah mengambil untuk menghentikan pendar...\n",
      "1             898     fear  aku takut acc ke suspend atuh lah jangan sampe...\n",
      "2            2825     fear  Momen di mana kamu merasa seperti segala sesua...\n",
      "3             993      joy  Apa yang allah berikan adalah yang terbaik unt...\n",
      "4           14676  sadness  Saya bisa berada di tumpukan lumpur, Anda dapa...\n",
      "...           ...      ...                                                ...\n",
      "18912        6874     fear  Saya merasa bahwa guru pembimbing saya kewalah...\n",
      "18913       13492     love  Saya merasakan rasa sakit yang manis dan keing...\n",
      "18914        7546     fear  Saya selalu merasa terintimidasi oleh orang la...\n",
      "18915        6883     fear   Saya merasa bermanifestasi dengan cara yang aneh\n",
      "18916        8009      joy  saya telah telah berjuang akhir-akhir ini seti...\n",
      "\n",
      "[18917 rows x 3 columns]\n"
     ]
    }
   ],
   "source": [
    "# Shuffle the rows\n",
    "train = train.sample(frac=1).reset_index(drop=True)\n",
    "\n",
    "print(train)"
   ]
  },
  {
   "cell_type": "code",
   "execution_count": 4,
   "id": "cbf2731d",
   "metadata": {
    "id": "cbf2731d",
    "outputId": "a19501a1-daff-4ab9-cdcb-56d75c80732b"
   },
   "outputs": [
    {
     "data": {
      "text/html": [
       "<div>\n",
       "<style scoped>\n",
       "    .dataframe tbody tr th:only-of-type {\n",
       "        vertical-align: middle;\n",
       "    }\n",
       "\n",
       "    .dataframe tbody tr th {\n",
       "        vertical-align: top;\n",
       "    }\n",
       "\n",
       "    .dataframe thead th {\n",
       "        text-align: right;\n",
       "    }\n",
       "</style>\n",
       "<table border=\"1\" class=\"dataframe\">\n",
       "  <thead>\n",
       "    <tr style=\"text-align: right;\">\n",
       "      <th></th>\n",
       "      <th>label</th>\n",
       "      <th>tweet</th>\n",
       "    </tr>\n",
       "  </thead>\n",
       "  <tbody>\n",
       "    <tr>\n",
       "      <th>0</th>\n",
       "      <td>anger</td>\n",
       "      <td>Saya telah mengambil untuk menghentikan pendar...</td>\n",
       "    </tr>\n",
       "    <tr>\n",
       "      <th>1</th>\n",
       "      <td>fear</td>\n",
       "      <td>aku takut acc ke suspend atuh lah jangan sampe...</td>\n",
       "    </tr>\n",
       "    <tr>\n",
       "      <th>2</th>\n",
       "      <td>fear</td>\n",
       "      <td>Momen di mana kamu merasa seperti segala sesua...</td>\n",
       "    </tr>\n",
       "    <tr>\n",
       "      <th>3</th>\n",
       "      <td>joy</td>\n",
       "      <td>Apa yang allah berikan adalah yang terbaik unt...</td>\n",
       "    </tr>\n",
       "    <tr>\n",
       "      <th>4</th>\n",
       "      <td>sadness</td>\n",
       "      <td>Saya bisa berada di tumpukan lumpur, Anda dapa...</td>\n",
       "    </tr>\n",
       "    <tr>\n",
       "      <th>...</th>\n",
       "      <td>...</td>\n",
       "      <td>...</td>\n",
       "    </tr>\n",
       "    <tr>\n",
       "      <th>18912</th>\n",
       "      <td>fear</td>\n",
       "      <td>Saya merasa bahwa guru pembimbing saya kewalah...</td>\n",
       "    </tr>\n",
       "    <tr>\n",
       "      <th>18913</th>\n",
       "      <td>love</td>\n",
       "      <td>Saya merasakan rasa sakit yang manis dan keing...</td>\n",
       "    </tr>\n",
       "    <tr>\n",
       "      <th>18914</th>\n",
       "      <td>fear</td>\n",
       "      <td>Saya selalu merasa terintimidasi oleh orang la...</td>\n",
       "    </tr>\n",
       "    <tr>\n",
       "      <th>18915</th>\n",
       "      <td>fear</td>\n",
       "      <td>Saya merasa bermanifestasi dengan cara yang aneh</td>\n",
       "    </tr>\n",
       "    <tr>\n",
       "      <th>18916</th>\n",
       "      <td>joy</td>\n",
       "      <td>saya telah telah berjuang akhir-akhir ini seti...</td>\n",
       "    </tr>\n",
       "  </tbody>\n",
       "</table>\n",
       "<p>18917 rows × 2 columns</p>\n",
       "</div>"
      ],
      "text/plain": [
       "         label                                              tweet\n",
       "0        anger  Saya telah mengambil untuk menghentikan pendar...\n",
       "1         fear  aku takut acc ke suspend atuh lah jangan sampe...\n",
       "2         fear  Momen di mana kamu merasa seperti segala sesua...\n",
       "3          joy  Apa yang allah berikan adalah yang terbaik unt...\n",
       "4      sadness  Saya bisa berada di tumpukan lumpur, Anda dapa...\n",
       "...        ...                                                ...\n",
       "18912     fear  Saya merasa bahwa guru pembimbing saya kewalah...\n",
       "18913     love  Saya merasakan rasa sakit yang manis dan keing...\n",
       "18914     fear  Saya selalu merasa terintimidasi oleh orang la...\n",
       "18915     fear   Saya merasa bermanifestasi dengan cara yang aneh\n",
       "18916      joy  saya telah telah berjuang akhir-akhir ini seti...\n",
       "\n",
       "[18917 rows x 2 columns]"
      ]
     },
     "execution_count": 4,
     "metadata": {},
     "output_type": "execute_result"
    }
   ],
   "source": [
    "train = train[[\"label\", \"tweet\"]]\n",
    "train"
   ]
  },
  {
   "cell_type": "code",
   "execution_count": 5,
   "id": "de6b911b",
   "metadata": {},
   "outputs": [
    {
     "name": "stdout",
     "output_type": "stream",
     "text": [
      "<class 'pandas.core.frame.DataFrame'>\n",
      "RangeIndex: 18917 entries, 0 to 18916\n",
      "Data columns (total 2 columns):\n",
      " #   Column  Non-Null Count  Dtype \n",
      "---  ------  --------------  ----- \n",
      " 0   label   18917 non-null  object\n",
      " 1   tweet   18917 non-null  object\n",
      "dtypes: object(2)\n",
      "memory usage: 295.7+ KB\n"
     ]
    }
   ],
   "source": [
    "train.info()"
   ]
  },
  {
   "cell_type": "code",
   "execution_count": 6,
   "id": "39680c89",
   "metadata": {
    "id": "39680c89",
    "outputId": "939b4955-0adc-4e73-d39d-2c3392cdb20f"
   },
   "outputs": [
    {
     "data": {
      "text/html": [
       "<div>\n",
       "<style scoped>\n",
       "    .dataframe tbody tr th:only-of-type {\n",
       "        vertical-align: middle;\n",
       "    }\n",
       "\n",
       "    .dataframe tbody tr th {\n",
       "        vertical-align: top;\n",
       "    }\n",
       "\n",
       "    .dataframe thead th {\n",
       "        text-align: right;\n",
       "    }\n",
       "</style>\n",
       "<table border=\"1\" class=\"dataframe\">\n",
       "  <thead>\n",
       "    <tr style=\"text-align: right;\">\n",
       "      <th></th>\n",
       "      <th>label</th>\n",
       "      <th>tweet</th>\n",
       "    </tr>\n",
       "  </thead>\n",
       "  <tbody>\n",
       "    <tr>\n",
       "      <th>count</th>\n",
       "      <td>18917</td>\n",
       "      <td>18917</td>\n",
       "    </tr>\n",
       "    <tr>\n",
       "      <th>unique</th>\n",
       "      <td>5</td>\n",
       "      <td>18387</td>\n",
       "    </tr>\n",
       "    <tr>\n",
       "      <th>top</th>\n",
       "      <td>joy</td>\n",
       "      <td>Aku merasa seperti aku harus melepaskan rasa m...</td>\n",
       "    </tr>\n",
       "    <tr>\n",
       "      <th>freq</th>\n",
       "      <td>5987</td>\n",
       "      <td>5</td>\n",
       "    </tr>\n",
       "  </tbody>\n",
       "</table>\n",
       "</div>"
      ],
      "text/plain": [
       "        label                                              tweet\n",
       "count   18917                                              18917\n",
       "unique      5                                              18387\n",
       "top       joy  Aku merasa seperti aku harus melepaskan rasa m...\n",
       "freq     5987                                                  5"
      ]
     },
     "execution_count": 6,
     "metadata": {},
     "output_type": "execute_result"
    }
   ],
   "source": [
    "train.describe()"
   ]
  },
  {
   "cell_type": "code",
   "execution_count": 7,
   "id": "5ae91330",
   "metadata": {
    "id": "5ae91330",
    "outputId": "df3ea461-c47b-4542-b990-e03cadfbea26"
   },
   "outputs": [
    {
     "data": {
      "text/html": [
       "<div>\n",
       "<style scoped>\n",
       "    .dataframe tbody tr th:only-of-type {\n",
       "        vertical-align: middle;\n",
       "    }\n",
       "\n",
       "    .dataframe tbody tr th {\n",
       "        vertical-align: top;\n",
       "    }\n",
       "\n",
       "    .dataframe thead th {\n",
       "        text-align: right;\n",
       "    }\n",
       "</style>\n",
       "<table border=\"1\" class=\"dataframe\">\n",
       "  <thead>\n",
       "    <tr style=\"text-align: right;\">\n",
       "      <th></th>\n",
       "      <th>label</th>\n",
       "      <th>tweet</th>\n",
       "    </tr>\n",
       "  </thead>\n",
       "  <tbody>\n",
       "    <tr>\n",
       "      <th>count</th>\n",
       "      <td>18917</td>\n",
       "      <td>18917</td>\n",
       "    </tr>\n",
       "    <tr>\n",
       "      <th>unique</th>\n",
       "      <td>5</td>\n",
       "      <td>18387</td>\n",
       "    </tr>\n",
       "    <tr>\n",
       "      <th>top</th>\n",
       "      <td>joy</td>\n",
       "      <td>Aku merasa seperti aku harus melepaskan rasa m...</td>\n",
       "    </tr>\n",
       "    <tr>\n",
       "      <th>freq</th>\n",
       "      <td>5987</td>\n",
       "      <td>5</td>\n",
       "    </tr>\n",
       "  </tbody>\n",
       "</table>\n",
       "</div>"
      ],
      "text/plain": [
       "        label                                              tweet\n",
       "count   18917                                              18917\n",
       "unique      5                                              18387\n",
       "top       joy  Aku merasa seperti aku harus melepaskan rasa m...\n",
       "freq     5987                                                  5"
      ]
     },
     "execution_count": 7,
     "metadata": {},
     "output_type": "execute_result"
    }
   ],
   "source": [
    "train.describe(include=\"O\")"
   ]
  },
  {
   "cell_type": "code",
   "execution_count": 8,
   "id": "aa687ed2",
   "metadata": {
    "id": "aa687ed2",
    "outputId": "08c66a6b-f8ca-4503-8199-5fc7072283bf"
   },
   "outputs": [
    {
     "data": {
      "text/html": [
       "<div>\n",
       "<style scoped>\n",
       "    .dataframe tbody tr th:only-of-type {\n",
       "        vertical-align: middle;\n",
       "    }\n",
       "\n",
       "    .dataframe tbody tr th {\n",
       "        vertical-align: top;\n",
       "    }\n",
       "\n",
       "    .dataframe thead th {\n",
       "        text-align: right;\n",
       "    }\n",
       "</style>\n",
       "<table border=\"1\" class=\"dataframe\">\n",
       "  <thead>\n",
       "    <tr style=\"text-align: right;\">\n",
       "      <th></th>\n",
       "      <th>tweet</th>\n",
       "    </tr>\n",
       "    <tr>\n",
       "      <th>label</th>\n",
       "      <th></th>\n",
       "    </tr>\n",
       "  </thead>\n",
       "  <tbody>\n",
       "    <tr>\n",
       "      <th>anger</th>\n",
       "      <td>2991</td>\n",
       "    </tr>\n",
       "    <tr>\n",
       "      <th>fear</th>\n",
       "      <td>2588</td>\n",
       "    </tr>\n",
       "    <tr>\n",
       "      <th>joy</th>\n",
       "      <td>5987</td>\n",
       "    </tr>\n",
       "    <tr>\n",
       "      <th>love</th>\n",
       "      <td>1859</td>\n",
       "    </tr>\n",
       "    <tr>\n",
       "      <th>sadness</th>\n",
       "      <td>5492</td>\n",
       "    </tr>\n",
       "  </tbody>\n",
       "</table>\n",
       "</div>"
      ],
      "text/plain": [
       "         tweet\n",
       "label         \n",
       "anger     2991\n",
       "fear      2588\n",
       "joy       5987\n",
       "love      1859\n",
       "sadness   5492"
      ]
     },
     "execution_count": 8,
     "metadata": {},
     "output_type": "execute_result"
    }
   ],
   "source": [
    "train.groupby(by=\"label\").count()"
   ]
  },
  {
   "cell_type": "code",
   "execution_count": 9,
   "id": "6bec2209",
   "metadata": {
    "id": "6bec2209",
    "outputId": "beb28976-c8cd-41b7-8ada-0f439bae9b73"
   },
   "outputs": [
    {
     "data": {
      "text/html": [
       "<div>\n",
       "<style scoped>\n",
       "    .dataframe tbody tr th:only-of-type {\n",
       "        vertical-align: middle;\n",
       "    }\n",
       "\n",
       "    .dataframe tbody tr th {\n",
       "        vertical-align: top;\n",
       "    }\n",
       "\n",
       "    .dataframe thead th {\n",
       "        text-align: right;\n",
       "    }\n",
       "</style>\n",
       "<table border=\"1\" class=\"dataframe\">\n",
       "  <thead>\n",
       "    <tr style=\"text-align: right;\">\n",
       "      <th></th>\n",
       "      <th>label</th>\n",
       "      <th>tweet</th>\n",
       "      <th>num_label</th>\n",
       "    </tr>\n",
       "  </thead>\n",
       "  <tbody>\n",
       "    <tr>\n",
       "      <th>0</th>\n",
       "      <td>anger</td>\n",
       "      <td>Saya telah mengambil untuk menghentikan pendar...</td>\n",
       "      <td>0</td>\n",
       "    </tr>\n",
       "    <tr>\n",
       "      <th>1</th>\n",
       "      <td>fear</td>\n",
       "      <td>aku takut acc ke suspend atuh lah jangan sampe...</td>\n",
       "      <td>1</td>\n",
       "    </tr>\n",
       "    <tr>\n",
       "      <th>2</th>\n",
       "      <td>fear</td>\n",
       "      <td>Momen di mana kamu merasa seperti segala sesua...</td>\n",
       "      <td>1</td>\n",
       "    </tr>\n",
       "    <tr>\n",
       "      <th>3</th>\n",
       "      <td>joy</td>\n",
       "      <td>Apa yang allah berikan adalah yang terbaik unt...</td>\n",
       "      <td>2</td>\n",
       "    </tr>\n",
       "    <tr>\n",
       "      <th>4</th>\n",
       "      <td>sadness</td>\n",
       "      <td>Saya bisa berada di tumpukan lumpur, Anda dapa...</td>\n",
       "      <td>4</td>\n",
       "    </tr>\n",
       "  </tbody>\n",
       "</table>\n",
       "</div>"
      ],
      "text/plain": [
       "     label                                              tweet  num_label\n",
       "0    anger  Saya telah mengambil untuk menghentikan pendar...          0\n",
       "1     fear  aku takut acc ke suspend atuh lah jangan sampe...          1\n",
       "2     fear  Momen di mana kamu merasa seperti segala sesua...          1\n",
       "3      joy  Apa yang allah berikan adalah yang terbaik unt...          2\n",
       "4  sadness  Saya bisa berada di tumpukan lumpur, Anda dapa...          4"
      ]
     },
     "execution_count": 9,
     "metadata": {},
     "output_type": "execute_result"
    }
   ],
   "source": [
    "train['num_label'] = train['label'].map({'anger':0, 'fear':1, 'joy':2, 'love':3, 'sadness':4})\n",
    "train.head()"
   ]
  },
  {
   "cell_type": "markdown",
   "id": "04265c9f",
   "metadata": {
    "id": "04265c9f"
   },
   "source": [
    "## Data Preprocessing"
   ]
  },
  {
   "cell_type": "code",
   "execution_count": 10,
   "id": "06bc63c2",
   "metadata": {},
   "outputs": [],
   "source": [
    "# !pip install emoji\n",
    "# !pip install python-crfsuite"
   ]
  },
  {
   "cell_type": "code",
   "execution_count": 11,
   "id": "391f6847",
   "metadata": {
    "id": "391f6847"
   },
   "outputs": [],
   "source": [
    "import re\n",
    "import emoji\n",
    "import nltk\n",
    "from nltk.tokenize import word_tokenize\n",
    "from nltk.corpus import stopwords\n",
    "from nltk.tag import CRFTagger"
   ]
  },
  {
   "cell_type": "code",
   "execution_count": 12,
   "id": "ad57b52a",
   "metadata": {},
   "outputs": [],
   "source": [
    "text = \"Woi, hari ini gue sama pacar lagi hangout di mall, abis makan bareng trus jalan-jalan seru-seruan. Gue senyum-senyum sendiri liat dia, rasanya bener-bener bahagia banget deh! Trus kita foto-foto bareng, lumayan buat kenang-kenangan. Pas pulang, gue peluk dia dari belakang, rasanya pengen nggak lepas, kayaknya waktu berhenti sebentar aja. Hari yang indah banget, apalagi sama dia\""
   ]
  },
  {
   "cell_type": "code",
   "execution_count": 13,
   "id": "8843044f",
   "metadata": {},
   "outputs": [],
   "source": [
    "def lowercase(review):\n",
    "    return review.lower() #dari python langsung, bkn dari external library\n",
    "# hapus URL\n",
    "def remove_url(review):\n",
    "    return re.sub(r'http\\S+', '', review)\n",
    "# hapus irrelevant char(angka, simbol, tanda baca)\n",
    "def remove_irrelevant(review):\n",
    "    return re.sub('[^a-zA-Z\\s]', ' ', review)\n",
    "# hapus spasi lebih dari 1\n",
    "def remove_space(review):\n",
    "    review= re.sub(r'\\s+', ' ', review)\n",
    "    review= review.replace('\\n', ' ')\n",
    "    review= review.replace('\\\\n', ' ')\n",
    "    review= review.replace('\\t', ' ')\n",
    "    review= review.replace('\\\\t', ' ')\n",
    "    review= review.replace('\\\\u', ' ')\n",
    "    review= review.replace('\\\\', ' ')\n",
    "    return review\n",
    "\n",
    "# hapus emoji\n",
    "def remove_emoji(review):\n",
    "    emoji_pattern= re.compile(\"[\"\n",
    "                           u\"\\U0001F600-\\U0001F64F\"  # emoticon\n",
    "                           u\"\\U0001F300-\\U0001F5FF\"  # simbol & dingbat\n",
    "                           u\"\\U0001F680-\\U0001F6FF\"  # transportasi & simbol map\n",
    "                           u\"\\U0001F700-\\U0001F77F\"  # simbol kuno\n",
    "                           u\"\\U0001F780-\\U0001F7FF\"  # simbol kuno tambahan\n",
    "                           u\"\\U0001F800-\\U0001F8FF\"  # simbol tanda batas\n",
    "                           u\"\\U0001F900-\\U0001F9FF\"  # emoticon tambahan\n",
    "                           u\"\\U0001FA00-\\U0001FA6F\"  # simbol musik\n",
    "                           u\"\\U0001FA70-\\U0001FAFF\"  # simbol musik tambahan\n",
    "                           u\"\\U00002702-\\U000027B0\"  # simbol karakter\n",
    "                           u\"\\U000024C2-\\U0001F251\"  # simbol katakter tambahan\n",
    "                           \"]+\", flags= re.UNICODE)\n",
    "    return emoji_pattern.sub(r'', review)\n",
    "\n",
    "\n",
    "#REMOVING REPEAT CHARACTER\n",
    "def repeat_char(review):\n",
    "    review= re.sub('([A-Za-z])\\\\1{2,}','\\\\1', review)\n",
    "    return review\n",
    "\n",
    "\n",
    "#STOPWORD ENGLISH --> NEED TO FIX\n",
    "def remove_stopwords(sentence):\n",
    "    \"\"\"\n",
    "    Removes a list of stopwords\n",
    "\n",
    "    Args:\n",
    "        sentence (string): sentence to remove the stopwords from\n",
    "\n",
    "    Returns:\n",
    "        sentence (string): lowercase sentence without the stopwords\n",
    "    \"\"\"\n",
    "    stopwords = [\"a\", \"about\", \"above\", \"after\", \"again\", \"against\", \"all\", \"am\", \"an\", \"and\", \"any\", \"are\", \"as\", \"at\", \"be\", \"because\", \"been\", \"before\", \"being\", \"below\", \"between\", \"both\", \"but\", \"by\", \"could\", \"did\", \"do\", \"does\", \"doing\", \"down\", \"during\", \"each\", \"few\", \"for\", \"from\", \"further\", \"had\", \"has\", \"have\", \"having\", \"he\", \"he'd\", \"he'll\", \"he's\", \"her\", \"here\", \"here's\", \"hers\", \"herself\", \"him\", \"himself\", \"his\", \"how\", \"how's\", \"i\", \"i'd\", \"i'll\", \"i'm\", \"i've\", \"if\", \"in\", \"into\", \"is\", \"it\", \"it's\", \"its\", \"itself\", \"let's\", \"me\", \"more\", \"most\", \"my\", \"myself\", \"nor\", \"of\", \"on\", \"once\", \"only\", \"or\", \"other\", \"ought\", \"our\", \"ours\", \"ourselves\", \"out\", \"over\", \"own\", \"same\", \"she\", \"she'd\", \"she'll\", \"she's\", \"should\", \"so\", \"some\", \"such\", \"than\", \"that\", \"that's\", \"the\", \"their\", \"theirs\", \"them\", \"themselves\", \"then\", \"there\", \"there's\", \"these\", \"they\", \"they'd\", \"they'll\", \"they're\", \"they've\", \"this\", \"those\", \"through\", \"to\", \"too\", \"under\", \"until\", \"up\", \"very\", \"was\", \"we\", \"we'd\", \"we'll\", \"we're\", \"we've\", \"were\", \"what\", \"what's\", \"when\", \"when's\", \"where\", \"where's\", \"which\", \"while\", \"who\", \"who's\", \"whom\", \"why\", \"why's\", \"with\", \"would\", \"you\", \"you'd\", \"you'll\", \"you're\", \"you've\", \"your\", \"yours\", \"yourself\", \"yourselves\" ]\n",
    "\n",
    "    words = sentence.split()\n",
    "    no_words = [w for w in words if w not in stopwords]\n",
    "    sentence = \" \".join(no_words)\n",
    "\n",
    "    return sentence\n"
   ]
  },
  {
   "cell_type": "code",
   "execution_count": 14,
   "id": "050fb938",
   "metadata": {
    "id": "050fb938",
    "outputId": "14bedcbd-6f36-4a14-8ab5-36633ab30be6"
   },
   "outputs": [],
   "source": [
    "def df_prep(train):\n",
    "    train['filtering']= train['tweet'].apply(lowercase)\n",
    "    train['filtering']= train['filtering'].apply(remove_url)\n",
    "    train['filtering']= train['filtering'].apply(remove_irrelevant)\n",
    "    train['filtering']= train['filtering'].apply(remove_space)\n",
    "    train['filtering']= train['filtering'].apply(remove_emoji)\n",
    "    train['filtering']= train['filtering'].apply(repeat_char)\n",
    "    train[\"filtering\"]= train[\"filtering\"].apply(remove_stopwords)\n",
    "    return train"
   ]
  },
  {
   "cell_type": "code",
   "execution_count": 15,
   "id": "04dd066c",
   "metadata": {},
   "outputs": [
    {
     "data": {
      "text/html": [
       "<div>\n",
       "<style scoped>\n",
       "    .dataframe tbody tr th:only-of-type {\n",
       "        vertical-align: middle;\n",
       "    }\n",
       "\n",
       "    .dataframe tbody tr th {\n",
       "        vertical-align: top;\n",
       "    }\n",
       "\n",
       "    .dataframe thead th {\n",
       "        text-align: right;\n",
       "    }\n",
       "</style>\n",
       "<table border=\"1\" class=\"dataframe\">\n",
       "  <thead>\n",
       "    <tr style=\"text-align: right;\">\n",
       "      <th></th>\n",
       "      <th>label</th>\n",
       "      <th>tweet</th>\n",
       "      <th>num_label</th>\n",
       "      <th>filtering</th>\n",
       "    </tr>\n",
       "  </thead>\n",
       "  <tbody>\n",
       "    <tr>\n",
       "      <th>0</th>\n",
       "      <td>anger</td>\n",
       "      <td>Saya telah mengambil untuk menghentikan pendar...</td>\n",
       "      <td>0</td>\n",
       "      <td>saya telah mengambil untuk menghentikan pendar...</td>\n",
       "    </tr>\n",
       "    <tr>\n",
       "      <th>1</th>\n",
       "      <td>fear</td>\n",
       "      <td>aku takut acc ke suspend atuh lah jangan sampe...</td>\n",
       "      <td>1</td>\n",
       "      <td>aku takut acc ke suspend atuh lah jangan sampe...</td>\n",
       "    </tr>\n",
       "    <tr>\n",
       "      <th>2</th>\n",
       "      <td>fear</td>\n",
       "      <td>Momen di mana kamu merasa seperti segala sesua...</td>\n",
       "      <td>1</td>\n",
       "      <td>momen di mana kamu merasa seperti segala sesua...</td>\n",
       "    </tr>\n",
       "    <tr>\n",
       "      <th>3</th>\n",
       "      <td>joy</td>\n",
       "      <td>Apa yang allah berikan adalah yang terbaik unt...</td>\n",
       "      <td>2</td>\n",
       "      <td>apa yang allah berikan adalah yang terbaik unt...</td>\n",
       "    </tr>\n",
       "    <tr>\n",
       "      <th>4</th>\n",
       "      <td>sadness</td>\n",
       "      <td>Saya bisa berada di tumpukan lumpur, Anda dapa...</td>\n",
       "      <td>4</td>\n",
       "      <td>saya bisa berada di tumpukan lumpur anda dapat...</td>\n",
       "    </tr>\n",
       "    <tr>\n",
       "      <th>...</th>\n",
       "      <td>...</td>\n",
       "      <td>...</td>\n",
       "      <td>...</td>\n",
       "      <td>...</td>\n",
       "    </tr>\n",
       "    <tr>\n",
       "      <th>18912</th>\n",
       "      <td>fear</td>\n",
       "      <td>Saya merasa bahwa guru pembimbing saya kewalah...</td>\n",
       "      <td>1</td>\n",
       "      <td>saya merasa bahwa guru pembimbing saya kewalah...</td>\n",
       "    </tr>\n",
       "    <tr>\n",
       "      <th>18913</th>\n",
       "      <td>love</td>\n",
       "      <td>Saya merasakan rasa sakit yang manis dan keing...</td>\n",
       "      <td>3</td>\n",
       "      <td>saya merasakan rasa sakit yang manis dan keing...</td>\n",
       "    </tr>\n",
       "    <tr>\n",
       "      <th>18914</th>\n",
       "      <td>fear</td>\n",
       "      <td>Saya selalu merasa terintimidasi oleh orang la...</td>\n",
       "      <td>1</td>\n",
       "      <td>saya selalu merasa terintimidasi oleh orang la...</td>\n",
       "    </tr>\n",
       "    <tr>\n",
       "      <th>18915</th>\n",
       "      <td>fear</td>\n",
       "      <td>Saya merasa bermanifestasi dengan cara yang aneh</td>\n",
       "      <td>1</td>\n",
       "      <td>saya merasa bermanifestasi dengan cara yang aneh</td>\n",
       "    </tr>\n",
       "    <tr>\n",
       "      <th>18916</th>\n",
       "      <td>joy</td>\n",
       "      <td>saya telah telah berjuang akhir-akhir ini seti...</td>\n",
       "      <td>2</td>\n",
       "      <td>saya telah telah berjuang akhir akhir ini seti...</td>\n",
       "    </tr>\n",
       "  </tbody>\n",
       "</table>\n",
       "<p>18917 rows × 4 columns</p>\n",
       "</div>"
      ],
      "text/plain": [
       "         label                                              tweet  num_label  \\\n",
       "0        anger  Saya telah mengambil untuk menghentikan pendar...          0   \n",
       "1         fear  aku takut acc ke suspend atuh lah jangan sampe...          1   \n",
       "2         fear  Momen di mana kamu merasa seperti segala sesua...          1   \n",
       "3          joy  Apa yang allah berikan adalah yang terbaik unt...          2   \n",
       "4      sadness  Saya bisa berada di tumpukan lumpur, Anda dapa...          4   \n",
       "...        ...                                                ...        ...   \n",
       "18912     fear  Saya merasa bahwa guru pembimbing saya kewalah...          1   \n",
       "18913     love  Saya merasakan rasa sakit yang manis dan keing...          3   \n",
       "18914     fear  Saya selalu merasa terintimidasi oleh orang la...          1   \n",
       "18915     fear   Saya merasa bermanifestasi dengan cara yang aneh          1   \n",
       "18916      joy  saya telah telah berjuang akhir-akhir ini seti...          2   \n",
       "\n",
       "                                               filtering  \n",
       "0      saya telah mengambil untuk menghentikan pendar...  \n",
       "1      aku takut acc ke suspend atuh lah jangan sampe...  \n",
       "2      momen di mana kamu merasa seperti segala sesua...  \n",
       "3      apa yang allah berikan adalah yang terbaik unt...  \n",
       "4      saya bisa berada di tumpukan lumpur anda dapat...  \n",
       "...                                                  ...  \n",
       "18912  saya merasa bahwa guru pembimbing saya kewalah...  \n",
       "18913  saya merasakan rasa sakit yang manis dan keing...  \n",
       "18914  saya selalu merasa terintimidasi oleh orang la...  \n",
       "18915   saya merasa bermanifestasi dengan cara yang aneh  \n",
       "18916  saya telah telah berjuang akhir akhir ini seti...  \n",
       "\n",
       "[18917 rows x 4 columns]"
      ]
     },
     "execution_count": 15,
     "metadata": {},
     "output_type": "execute_result"
    }
   ],
   "source": [
    "train = df_prep(train)\n",
    "train"
   ]
  },
  {
   "cell_type": "code",
   "execution_count": 16,
   "id": "7b4f2035",
   "metadata": {
    "id": "7b4f2035",
    "outputId": "8ac4b771-c032-44c2-ebba-99704fecd046"
   },
   "outputs": [
    {
     "data": {
      "text/plain": [
       "15133"
      ]
     },
     "execution_count": 16,
     "metadata": {},
     "output_type": "execute_result"
    }
   ],
   "source": [
    "train_split = 0.8\n",
    "train_size = int(len(train['filtering'])*train_split)\n",
    "train_size"
   ]
  },
  {
   "cell_type": "code",
   "execution_count": 17,
   "id": "4b24cd7f",
   "metadata": {
    "id": "4b24cd7f"
   },
   "outputs": [],
   "source": [
    "traindata = train[0:train_size]\n",
    "valdata = train[train_size:]"
   ]
  },
  {
   "cell_type": "code",
   "execution_count": 18,
   "id": "b8c9f7ef",
   "metadata": {},
   "outputs": [
    {
     "data": {
      "text/html": [
       "<div>\n",
       "<style scoped>\n",
       "    .dataframe tbody tr th:only-of-type {\n",
       "        vertical-align: middle;\n",
       "    }\n",
       "\n",
       "    .dataframe tbody tr th {\n",
       "        vertical-align: top;\n",
       "    }\n",
       "\n",
       "    .dataframe thead th {\n",
       "        text-align: right;\n",
       "    }\n",
       "</style>\n",
       "<table border=\"1\" class=\"dataframe\">\n",
       "  <thead>\n",
       "    <tr style=\"text-align: right;\">\n",
       "      <th></th>\n",
       "      <th>label</th>\n",
       "      <th>tweet</th>\n",
       "      <th>num_label</th>\n",
       "      <th>filtering</th>\n",
       "    </tr>\n",
       "  </thead>\n",
       "  <tbody>\n",
       "    <tr>\n",
       "      <th>0</th>\n",
       "      <td>anger</td>\n",
       "      <td>Saya telah mengambil untuk menghentikan pendar...</td>\n",
       "      <td>0</td>\n",
       "      <td>saya telah mengambil untuk menghentikan pendar...</td>\n",
       "    </tr>\n",
       "    <tr>\n",
       "      <th>1</th>\n",
       "      <td>fear</td>\n",
       "      <td>aku takut acc ke suspend atuh lah jangan sampe...</td>\n",
       "      <td>1</td>\n",
       "      <td>aku takut acc ke suspend atuh lah jangan sampe...</td>\n",
       "    </tr>\n",
       "    <tr>\n",
       "      <th>2</th>\n",
       "      <td>fear</td>\n",
       "      <td>Momen di mana kamu merasa seperti segala sesua...</td>\n",
       "      <td>1</td>\n",
       "      <td>momen di mana kamu merasa seperti segala sesua...</td>\n",
       "    </tr>\n",
       "    <tr>\n",
       "      <th>3</th>\n",
       "      <td>joy</td>\n",
       "      <td>Apa yang allah berikan adalah yang terbaik unt...</td>\n",
       "      <td>2</td>\n",
       "      <td>apa yang allah berikan adalah yang terbaik unt...</td>\n",
       "    </tr>\n",
       "    <tr>\n",
       "      <th>4</th>\n",
       "      <td>sadness</td>\n",
       "      <td>Saya bisa berada di tumpukan lumpur, Anda dapa...</td>\n",
       "      <td>4</td>\n",
       "      <td>saya bisa berada di tumpukan lumpur anda dapat...</td>\n",
       "    </tr>\n",
       "    <tr>\n",
       "      <th>...</th>\n",
       "      <td>...</td>\n",
       "      <td>...</td>\n",
       "      <td>...</td>\n",
       "      <td>...</td>\n",
       "    </tr>\n",
       "    <tr>\n",
       "      <th>15128</th>\n",
       "      <td>anger</td>\n",
       "      <td>Saya terus menangis atau merasa rewel</td>\n",
       "      <td>0</td>\n",
       "      <td>saya terus menangis atau merasa rewel</td>\n",
       "    </tr>\n",
       "    <tr>\n",
       "      <th>15129</th>\n",
       "      <td>sadness</td>\n",
       "      <td>Dan gitarku yang dipinjam teman belum dikembal...</td>\n",
       "      <td>4</td>\n",
       "      <td>dan gitarku yang dipinjam teman belum dikembal...</td>\n",
       "    </tr>\n",
       "    <tr>\n",
       "      <th>15130</th>\n",
       "      <td>joy</td>\n",
       "      <td>Saya bisa merasakan semangatnya yang manis dan...</td>\n",
       "      <td>2</td>\n",
       "      <td>saya bisa merasakan semangatnya yang manis dan...</td>\n",
       "    </tr>\n",
       "    <tr>\n",
       "      <th>15131</th>\n",
       "      <td>joy</td>\n",
       "      <td>Saya kagum dengan apa yang saya miliki dan say...</td>\n",
       "      <td>2</td>\n",
       "      <td>saya kagum dengan apa yang saya miliki dan say...</td>\n",
       "    </tr>\n",
       "    <tr>\n",
       "      <th>15132</th>\n",
       "      <td>love</td>\n",
       "      <td>Kalo lagi sayang ya sayang pisan Kalo lagi man...</td>\n",
       "      <td>3</td>\n",
       "      <td>kalo lagi sayang ya sayang pisan kalo lagi man...</td>\n",
       "    </tr>\n",
       "  </tbody>\n",
       "</table>\n",
       "<p>15133 rows × 4 columns</p>\n",
       "</div>"
      ],
      "text/plain": [
       "         label                                              tweet  num_label  \\\n",
       "0        anger  Saya telah mengambil untuk menghentikan pendar...          0   \n",
       "1         fear  aku takut acc ke suspend atuh lah jangan sampe...          1   \n",
       "2         fear  Momen di mana kamu merasa seperti segala sesua...          1   \n",
       "3          joy  Apa yang allah berikan adalah yang terbaik unt...          2   \n",
       "4      sadness  Saya bisa berada di tumpukan lumpur, Anda dapa...          4   \n",
       "...        ...                                                ...        ...   \n",
       "15128    anger              Saya terus menangis atau merasa rewel          0   \n",
       "15129  sadness  Dan gitarku yang dipinjam teman belum dikembal...          4   \n",
       "15130      joy  Saya bisa merasakan semangatnya yang manis dan...          2   \n",
       "15131      joy  Saya kagum dengan apa yang saya miliki dan say...          2   \n",
       "15132     love  Kalo lagi sayang ya sayang pisan Kalo lagi man...          3   \n",
       "\n",
       "                                               filtering  \n",
       "0      saya telah mengambil untuk menghentikan pendar...  \n",
       "1      aku takut acc ke suspend atuh lah jangan sampe...  \n",
       "2      momen di mana kamu merasa seperti segala sesua...  \n",
       "3      apa yang allah berikan adalah yang terbaik unt...  \n",
       "4      saya bisa berada di tumpukan lumpur anda dapat...  \n",
       "...                                                  ...  \n",
       "15128              saya terus menangis atau merasa rewel  \n",
       "15129  dan gitarku yang dipinjam teman belum dikembal...  \n",
       "15130  saya bisa merasakan semangatnya yang manis dan...  \n",
       "15131  saya kagum dengan apa yang saya miliki dan say...  \n",
       "15132  kalo lagi sayang ya sayang pisan kalo lagi man...  \n",
       "\n",
       "[15133 rows x 4 columns]"
      ]
     },
     "execution_count": 18,
     "metadata": {},
     "output_type": "execute_result"
    }
   ],
   "source": [
    "traindata"
   ]
  },
  {
   "cell_type": "code",
   "execution_count": 19,
   "id": "4c88fbf3",
   "metadata": {
    "id": "4c88fbf3"
   },
   "outputs": [],
   "source": [
    "import numpy as np\n",
    "from tensorflow.keras.preprocessing.text import Tokenizer\n",
    "from tensorflow.keras.preprocessing.sequence import pad_sequences\n",
    "\n",
    "# Parameters for padding and OOV tokens\n",
    "trunc_type='post'\n",
    "padding_type='post'\n",
    "oov_tok = \"<OOV>\"\n",
    "max_length = 1000\n",
    "\n",
    "# Initialize the Tokenizer class\n",
    "tokenizer = Tokenizer(num_words=5000, oov_token='<OOV>')\n",
    "\n",
    "# Generate the word index dictionary\n",
    "tokenizer.fit_on_texts(traindata['filtering'])\n",
    "word_index = tokenizer.word_index\n",
    "\n",
    "# Generate and pad the training sequences\n",
    "training_sequences = tokenizer.texts_to_sequences(traindata['filtering'])\n",
    "training_padded = pad_sequences(training_sequences, maxlen=max_length, padding=padding_type, truncating=trunc_type)\n",
    "\n",
    "# Generate and pad the validation sequences\n",
    "validation_sequences = tokenizer.texts_to_sequences(valdata['filtering'])\n",
    "validation_padded = pad_sequences(validation_sequences, maxlen=max_length, padding=padding_type, truncating=trunc_type)"
   ]
  },
  {
   "cell_type": "markdown",
   "id": "554145f2",
   "metadata": {},
   "source": [
    "## Build Model"
   ]
  },
  {
   "cell_type": "code",
   "execution_count": 20,
   "id": "4e1fb0ed",
   "metadata": {
    "id": "4e1fb0ed"
   },
   "outputs": [
    {
     "name": "stderr",
     "output_type": "stream",
     "text": [
      "C:\\Users\\DAFA\\anaconda3\\Lib\\site-packages\\keras\\src\\layers\\core\\embedding.py:90: UserWarning: Argument `input_length` is deprecated. Just remove it.\n",
      "  warnings.warn(\n"
     ]
    }
   ],
   "source": [
    "\n",
    "model = tf.keras.Sequential([\n",
    "    tf.keras.layers.Embedding(5000, 16, input_length=max_length),\n",
    "    tf.keras.layers.GlobalAveragePooling1D(),\n",
    "    tf.keras.layers.Dense(24, activation='relu'),\n",
    "    tf.keras.layers.Dense(5, activation='softmax')\n",
    "])\n"
   ]
  },
  {
   "cell_type": "code",
   "execution_count": 21,
   "id": "f27f810f",
   "metadata": {
    "id": "f27f810f",
    "outputId": "6e526cb4-017e-487a-8bb1-31ef41e55cf3"
   },
   "outputs": [
    {
     "data": {
      "text/plain": [
       "\"\\nmodel = tf.keras.Sequential([\\n    tf.keras.layers.Embedding(17000, 64, input_length=max_length),\\n    tf.keras.layers.GlobalAveragePooling1D(),\\n    tf.keras.layers.Dense(128, activation='relu'),\\n    tf.keras.layers.Dropout(0.2),\\n    tf.keras.layers.Dense(1, activation='sigmoid')\\n])\\n\""
      ]
     },
     "execution_count": 21,
     "metadata": {},
     "output_type": "execute_result"
    }
   ],
   "source": [
    "'''\n",
    "model = tf.keras.Sequential([\n",
    "    tf.keras.layers.Embedding(17000, 64, input_length=max_length),\n",
    "    tf.keras.layers.GlobalAveragePooling1D(),\n",
    "    tf.keras.layers.Dense(128, activation='relu'),\n",
    "    tf.keras.layers.Dropout(0.2),\n",
    "    tf.keras.layers.Dense(1, activation='sigmoid')\n",
    "])\n",
    "'''"
   ]
  },
  {
   "cell_type": "code",
   "execution_count": 22,
   "id": "efa2eabe",
   "metadata": {
    "id": "efa2eabe",
    "outputId": "e730f996-16bc-42c5-f71e-e7fc24c34982",
    "scrolled": true
   },
   "outputs": [
    {
     "data": {
      "text/plain": [
       "'\\n# Build the model\\nmodel = tf.keras.Sequential([\\n    # This is how you need to set the Embedding layer when using pre-trained embeddings\\n    tf.keras.layers.Embedding(vocab_size+1, embedding_dim, input_length=maxlen, weights=[embeddings_matrix], trainable=False),\\n    tf.keras.layers.Dropout(0.2),\\n    tf.keras.layers.Bidirectional(tf.keras.layers.LSTM(32)),\\n    tf.keras.layers.Dropout(0.2),\\n    tf.keras.layers.Dense(6, activation = \\'relu\\'),\\n    tf.keras.layers.Dense(1, activation = \"sigmoid\")\\n])\\n\\n# Print the model summary\\nmodel.summary()\\n'"
      ]
     },
     "execution_count": 22,
     "metadata": {},
     "output_type": "execute_result"
    }
   ],
   "source": [
    "'''\n",
    "# Build the model\n",
    "model = tf.keras.Sequential([\n",
    "    # This is how you need to set the Embedding layer when using pre-trained embeddings\n",
    "    tf.keras.layers.Embedding(vocab_size+1, embedding_dim, input_length=maxlen, weights=[embeddings_matrix], trainable=False),\n",
    "    tf.keras.layers.Dropout(0.2),\n",
    "    tf.keras.layers.Bidirectional(tf.keras.layers.LSTM(32)),\n",
    "    tf.keras.layers.Dropout(0.2),\n",
    "    tf.keras.layers.Dense(6, activation = 'relu'),\n",
    "    tf.keras.layers.Dense(1, activation = \"sigmoid\")\n",
    "])\n",
    "\n",
    "# Print the model summary\n",
    "model.summary()\n",
    "'''"
   ]
  },
  {
   "cell_type": "code",
   "execution_count": 23,
   "id": "4f341131",
   "metadata": {},
   "outputs": [
    {
     "data": {
      "text/plain": [
       "\"\\nmodel = tf.keras.Sequential([\\n     tf.keras.layers.Embedding(17000, 32, input_length=max_length),\\n     tf.keras.layers.Dropout(0.2),  # Add dropout layer\\n     tf.keras.layers.GlobalAveragePooling1D(),\\n     tf.keras.layers.Dense(16, activation='relu'),  # Reduced number of units\\n     tf.keras.layers.Dropout(0.2),  # Add dropout layer\\n     tf.keras.layers.Dense(5, activation='softmax')\\n ])\\n\""
      ]
     },
     "execution_count": 23,
     "metadata": {},
     "output_type": "execute_result"
    }
   ],
   "source": [
    "'''\n",
    "model = tf.keras.Sequential([\n",
    "     tf.keras.layers.Embedding(17000, 32, input_length=max_length),\n",
    "     tf.keras.layers.Dropout(0.2),  # Add dropout layer\n",
    "     tf.keras.layers.GlobalAveragePooling1D(),\n",
    "     tf.keras.layers.Dense(16, activation='relu'),  # Reduced number of units\n",
    "     tf.keras.layers.Dropout(0.2),  # Add dropout layer\n",
    "     tf.keras.layers.Dense(5, activation='softmax')\n",
    " ])\n",
    "'''"
   ]
  },
  {
   "cell_type": "code",
   "execution_count": 24,
   "id": "d74fa09a",
   "metadata": {
    "id": "d74fa09a"
   },
   "outputs": [],
   "source": [
    "from tensorflow.keras.optimizers import Adam\n",
    "# Define the learning rate\n",
    "#learning_rate = 0.001\n",
    "\n",
    "# Compile the model with Adam optimizer and specified learning rate\n",
    "\n",
    "model.compile(loss=tf.keras.losses.SparseCategoricalCrossentropy(from_logits=True), optimizer=tf.keras.optimizers.Adam(), metrics=['accuracy'])\n"
   ]
  },
  {
   "cell_type": "code",
   "execution_count": 25,
   "id": "668a97ac",
   "metadata": {
    "id": "668a97ac",
    "outputId": "0bcbe5b0-ac30-4650-b469-47fbe5cee9f4",
    "scrolled": true
   },
   "outputs": [
    {
     "name": "stderr",
     "output_type": "stream",
     "text": [
      "C:\\Users\\DAFA\\anaconda3\\Lib\\site-packages\\keras\\src\\backend\\tensorflow\\nn.py:602: UserWarning: \"`sparse_categorical_crossentropy` received `from_logits=True`, but the `output` argument was produced by a Softmax activation and thus does not represent logits. Was this intended?\n",
      "  output, from_logits = _get_logits(\n"
     ]
    },
    {
     "name": "stdout",
     "output_type": "stream",
     "text": [
      "473/473 - 5s - 11ms/step - accuracy: 0.3091 - loss: 1.5181 - val_accuracy: 0.2859 - val_loss: 1.5267\n"
     ]
    }
   ],
   "source": [
    "num_epochs = 1\n",
    "\n",
    "# Train the model\n",
    "history = model.fit(training_padded, traindata['num_label'], epochs=num_epochs, validation_data=(validation_padded, valdata['num_label']), verbose=2)"
   ]
  },
  {
   "cell_type": "code",
   "execution_count": 26,
   "id": "0e02400e",
   "metadata": {
    "id": "0e02400e",
    "outputId": "0f4a4d5e-0f3a-4262-c4dd-9f3fa692b7ed"
   },
   "outputs": [
    {
     "data": {
      "image/png": "[encoded data removed]",
      "text/plain": [
       "<Figure size 640x480 with 1 Axes>"
      ]
     },
     "metadata": {},
     "output_type": "display_data"
    },
    {
     "data": {
      "image/png": "[encoded data removed]",
      "text/plain": [
       "<Figure size 640x480 with 1 Axes>"
      ]
     },
     "metadata": {},
     "output_type": "display_data"
    }
   ],
   "source": [
    "import matplotlib.pyplot as plt\n",
    "\n",
    "# Plot utility\n",
    "def plot_graphs(history, string):\n",
    "  plt.plot(history.history[string])\n",
    "  plt.plot(history.history['val_'+string])\n",
    "  plt.xlabel(\"Epochs\")\n",
    "  plt.ylabel(string)\n",
    "  plt.legend([string, 'val_'+string])\n",
    "  plt.show()\n",
    "\n",
    "# Plot the accuracy and loss\n",
    "plot_graphs(history, \"accuracy\")\n",
    "plot_graphs(history, \"loss\")"
   ]
  },
  {
   "cell_type": "markdown",
   "id": "3982df6e",
   "metadata": {},
   "source": [
    "## Predicting"
   ]
  },
  {
   "cell_type": "code",
   "execution_count": 27,
   "id": "a3f3b3d0",
   "metadata": {},
   "outputs": [],
   "source": [
    "text = \"Woi, hari ini gue sama pacar lagi hangout di mall, abis makan bareng trus jalan-jalan seru-seruan. Gue senyum-senyum sendiri liat dia, rasanya bener-bener bahagia banget deh! Trus kita foto-foto bareng, lumayan buat kenang-kenangan. Pas pulang, gue peluk dia dari belakang, rasanya pengen nggak lepas, kayaknya waktu berhenti sebentar aja. Hari yang indah banget, apalagi sama dia\""
   ]
  },
  {
   "cell_type": "code",
   "execution_count": 28,
   "id": "efdf7e8d",
   "metadata": {},
   "outputs": [],
   "source": [
    "#data test preprocessing\n",
    "\n",
    "def prep_test(review):\n",
    "    review = lowercase(review)\n",
    "    review = remove_url(review)\n",
    "    review = remove_irrelevant(review)\n",
    "    review = remove_space(review)\n",
    "    review = remove_emoji(review)\n",
    "    review = repeat_char(review)\n",
    "    text = [review]\n",
    "    inference_sequences = tokenizer.texts_to_sequences(text)\n",
    "    inference_padded = pad_sequences(inference_sequences, padding=padding_type, maxlen=max_length)\n",
    "    return inference_padded"
   ]
  },
  {
   "cell_type": "code",
   "execution_count": 29,
   "id": "4c404911",
   "metadata": {},
   "outputs": [],
   "source": [
    "test_padded = prep_test(text)"
   ]
  },
  {
   "cell_type": "code",
   "execution_count": 30,
   "id": "c5dce9aa",
   "metadata": {},
   "outputs": [],
   "source": [
    "def prediction(test):\n",
    "    label = [\"anger\", \"fear\", \"joy\", \"love\", \"sadness\"]\n",
    "    result = model.predict(test)\n",
    "    index = np.argmax(result)\n",
    "    hasil = label[index]\n",
    "    return hasil"
   ]
  },
  {
   "cell_type": "code",
   "execution_count": 31,
   "id": "d07dcbb2",
   "metadata": {},
   "outputs": [
    {
     "name": "stdout",
     "output_type": "stream",
     "text": [
      "\u001b[1m1/1\u001b[0m \u001b[32m━━━━━━━━━━━━━━━━━━━━\u001b[0m\u001b[37m\u001b[0m \u001b[1m0s\u001b[0m 98ms/step\n"
     ]
    },
    {
     "data": {
      "text/plain": [
       "'sadness'"
      ]
     },
     "execution_count": 31,
     "metadata": {},
     "output_type": "execute_result"
    }
   ],
   "source": [
    "prediction(test_padded)"
   ]
  },
  {
   "cell_type": "markdown",
   "id": "a78c41a8",
   "metadata": {},
   "source": [
    "# SAVE & CONVERT"
   ]
  },
  {
   "cell_type": "code",
   "execution_count": null,
   "id": "82484f17",
   "metadata": {},
   "outputs": [],
   "source": [
    "export_dir = 'saved_model/1'\n",
    "\n",
    "# Load the SavedModel\n",
    "loaded_model = tf.saved_model.load(export_dir)\n",
    "\n",
    "# Convert the model to TensorFlow Lite format\n",
    "converter = tf.lite.TFLiteConverter.from_saved_model(export_dir)\n",
    "tflite_model = converter.convert()\n",
    "\n",
    "# Save the TensorFlow Lite model to a file\n",
    "tflite_model_file = 'converted_model.tflite'\n",
    "with open(tflite_model_file, 'wb') as f:\n",
    "    f.write(tflite_model)\n",
    "\n",
    "print(f'TensorFlow Lite model saved to {tflite_model_file}')"
   ]
  },
  {
   "cell_type": "code",
   "execution_count": null,
   "id": "9fb76b61",
   "metadata": {},
   "outputs": [],
   "source": []
  }
 ],
 "metadata": {
  "colab": {
   "provenance": []
  },
  "kernelspec": {
   "display_name": "Python 3 (ipykernel)",
   "language": "python",
   "name": "python3"
  },
  "language_info": {
   "codemirror_mode": {
    "name": "ipython",
    "version": 3
   },
   "file_extension": ".py",
   "mimetype": "text/x-python",
   "name": "python",
   "nbconvert_exporter": "python",
   "pygments_lexer": "ipython3",
   "version": "3.11.7"
  }
 },
 "nbformat": 4,
 "nbformat_minor": 5
}
